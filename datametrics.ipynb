{
 "cells": [
  {
   "cell_type": "code",
   "execution_count": 12,
   "id": "initial_id",
   "metadata": {
    "ExecuteTime": {
     "end_time": "2023-10-05T07:04:59.195146676Z",
     "start_time": "2023-10-05T07:04:59.123692624Z"
    }
   },
   "outputs": [],
   "source": [
    "import sqlite3\n",
    "import pandas as pd\n",
    "import numpy as np\n",
    "from reportlab.lib.pagesizes import letter, landscape  # Use landscape orientation\n",
    "from reportlab.platypus import SimpleDocTemplate, Table, TableStyle\n",
    "from reportlab.lib import colors\n",
    "\n",
    "# Connect to the SQLite database\n",
    "conn = sqlite3.connect('.database')\n",
    "\n",
    "# Query data from the 'Data' table\n",
    "query = \"SELECT * FROM Data\"\n",
    "data = pd.read_sql_query(query, conn)\n",
    "\n",
    "# Exclude the 'Year' column for statistics calculations\n",
    "data = data.drop(columns=['year'])\n",
    "\n",
    "# Calculate the Mean for each column\n",
    "means = data.mean()\n",
    "\n",
    "# Calculate the Covariance Matrix\n",
    "cov_matrix = data.cov()\n",
    "\n",
    "# Calculate the Variance for each column\n",
    "variances = data.var()\n",
    "\n",
    "# Calculate the Correlation Matrix\n",
    "corr_matrix = data.corr()\n",
    "\n",
    "# Convert the statistics to formatted tables\n",
    "mean_table = pd.DataFrame(means, columns=[\"Mean\"]).reset_index()\n",
    "cov_table = cov_matrix.reset_index()\n",
    "variance_table = pd.DataFrame(variances, columns=[\"Variance\"]).reset_index()\n",
    "corr_table = corr_matrix.reset_index()\n",
    "\n",
    "# Create a PDF document with landscape orientation\n",
    "pdf_filename = \"statistics_report.pdf\"\n",
    "doc = SimpleDocTemplate(pdf_filename, pagesize=landscape(letter))\n",
    "\n",
    "# Define styles for tables\n",
    "table_style = TableStyle([\n",
    "    ('BACKGROUND', (0, 0), (-1, 0), colors.grey),\n",
    "    ('TEXTCOLOR', (0, 0), (-1, 0), colors.whitesmoke),\n",
    "    ('ALIGN', (0, 0), (-1, -1), 'CENTER'),\n",
    "    ('FONTNAME', (0, 0), (-1, 0), 'Helvetica-Bold'),\n",
    "    ('BOTTOMPADDING', (0, 0), (-1, 0), 4),\n",
    "    ('BACKGROUND', (0, 1), (-1, -1), colors.beige),\n",
    "    ('GRID', (0, 0), (-1, -1), 1, colors.black),\n",
    "])\n",
    "\n",
    "# Create tables\n",
    "mean_data = [mean_table.columns[:, ].values.tolist()] + mean_table.values.tolist()\n",
    "cov_data = [cov_table.columns[:, ].values.tolist()] + cov_table.values.tolist()\n",
    "variance_data = [variance_table.columns[:, ].values.tolist()] + variance_table.values.tolist()\n",
    "corr_data = [corr_table.columns[:, ].values.tolist()] + corr_table.values.tolist()\n",
    "\n",
    "mean_table = Table(mean_data)\n",
    "cov_table = Table(cov_data)\n",
    "variance_table = Table(variance_data)\n",
    "corr_table = Table(corr_data)\n",
    "\n",
    "# Apply styles to tables\n",
    "mean_table.setStyle(table_style)\n",
    "cov_table.setStyle(table_style)\n",
    "variance_table.setStyle(table_style)\n",
    "corr_table.setStyle(table_style)\n",
    "\n",
    "# Build the PDF document\n",
    "pdf_elements = []\n",
    "pdf_elements.append(mean_table)\n",
    "pdf_elements.append(cov_table)\n",
    "pdf_elements.append(variance_table)\n",
    "pdf_elements.append(corr_table)\n",
    "\n",
    "doc.build(pdf_elements)\n",
    "\n",
    "# Close the database connection\n",
    "conn.close()\n"
   ]
  },
  {
   "cell_type": "code",
   "execution_count": null,
   "outputs": [],
   "source": [],
   "metadata": {
    "collapsed": false
   },
   "id": "436861b0502c378e"
  }
 ],
 "metadata": {
  "kernelspec": {
   "display_name": "Python 3 (ipykernel)",
   "language": "python",
   "name": "python3"
  },
  "language_info": {
   "codemirror_mode": {
    "name": "ipython",
    "version": 3
   },
   "file_extension": ".py",
   "mimetype": "text/x-python",
   "name": "python",
   "nbconvert_exporter": "python",
   "pygments_lexer": "ipython3",
   "version": "3.11.5"
  }
 },
 "nbformat": 4,
 "nbformat_minor": 5
}
