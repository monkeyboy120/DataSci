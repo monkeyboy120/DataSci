{
 "cells": [
  {
   "cell_type": "code",
   "execution_count": 3,
   "id": "initial_id",
   "metadata": {
    "ExecuteTime": {
     "end_time": "2023-10-05T06:56:49.080786144Z",
     "start_time": "2023-10-05T06:56:49.022801851Z"
    }
   },
   "outputs": [
    {
     "name": "stdout",
     "output_type": "stream",
     "text": [
      "Mean Table:\n",
      "+----------------------+--------------------+\n",
      "|        index         |        Mean        |\n",
      "+----------------------+--------------------+\n",
      "|      num_fires       | 79433.31034482758  |\n",
      "|    avg_fire_size     |  76.9411279086207  |\n",
      "| AVERAGE_PALMER_INDEX | 0.5741379309655172 |\n",
      "|       Temp (F)       | 53.86551724137931  |\n",
      "|     AVERAGE_AQI      | 43.73103448275862  |\n",
      "+----------------------+--------------------+\n",
      "\n",
      "Covariance Matrix:\n",
      "+----------------------+---------------------+---------------------+----------------------+---------------------+---------------------+\n",
      "|        index         |      num_fires      |    avg_fire_size    | AVERAGE_PALMER_INDEX |      Temp (F)       |     AVERAGE_AQI     |\n",
      "+----------------------+---------------------+---------------------+----------------------+---------------------+---------------------+\n",
      "|      num_fires       |  170808077.7216749  | 100348.91947341076  | -18119.907459578277  | -2232.421059113306  | 12356.915024630536  |\n",
      "|    avg_fire_size     | 100348.91947341076  | 1050.3279133432397  |  -24.98087887123201  |  17.43146234505789  | -47.908038231527094 |\n",
      "| AVERAGE_PALMER_INDEX | -18119.907459578277 | -24.98087887123201  |  5.342504041418578   | -0.4183879310726601 | -2.5144514571453183 |\n",
      "|       Temp (F)       | -2232.421059113306  |  17.43146234505789  | -0.4183879310726601  | 2.5694827586206923  | -2.8860344827586237 |\n",
      "|     AVERAGE_AQI      | 12356.915024630536  | -47.908038231527094 | -2.5144514571453183  | -2.8860344827586237 | 13.526502463054182  |\n",
      "+----------------------+---------------------+---------------------+----------------------+---------------------+---------------------+\n",
      "\n",
      "Variance Table:\n",
      "+----------------------+--------------------+\n",
      "|        index         |      Variance      |\n",
      "+----------------------+--------------------+\n",
      "|      num_fires       | 170808077.7216749  |\n",
      "|    avg_fire_size     | 1050.3279133432395 |\n",
      "| AVERAGE_PALMER_INDEX | 5.342504041418579  |\n",
      "|       Temp (F)       | 2.5694827586206928 |\n",
      "|     AVERAGE_AQI      | 13.526502463054184 |\n",
      "+----------------------+--------------------+\n",
      "\n",
      "Correlation Matrix:\n",
      "+----------------------+---------------------+----------------------+----------------------+---------------------+----------------------+\n",
      "|        index         |      num_fires      |    avg_fire_size     | AVERAGE_PALMER_INDEX |      Temp (F)       |     AVERAGE_AQI      |\n",
      "+----------------------+---------------------+----------------------+----------------------+---------------------+----------------------+\n",
      "|      num_fires       |         1.0         |  0.2369169015626688  | -0.5998316024945646  | -0.106561188142345  |  0.2570769268408912  |\n",
      "|    avg_fire_size     | 0.2369169015626688  |         1.0          | -0.33348233228931884 | 0.3355432559964595  | -0.4019325475898741  |\n",
      "| AVERAGE_PALMER_INDEX | -0.5998316024945646 | -0.33348233228931884 |         1.0          | -0.1129233788964597 | -0.29578630904722747 |\n",
      "|       Temp (F)       | -0.106561188142345  |  0.3355432559964595  | -0.1129233788964597  |         1.0         | -0.4895374303977197  |\n",
      "|     AVERAGE_AQI      | 0.2570769268408912  | -0.4019325475898741  | -0.29578630904722747 | -0.4895374303977197 |         1.0          |\n",
      "+----------------------+---------------------+----------------------+----------------------+---------------------+----------------------+\n"
     ]
    }
   ],
   "source": [
    "import sqlite3\n",
    "import pandas as pd\n",
    "import numpy as np\n",
    "from tabulate import tabulate\n",
    "\n",
    "# Connect to the SQLite database\n",
    "conn = sqlite3.connect('.database')\n",
    "\n",
    "# Query data from the 'Data' table\n",
    "query = \"SELECT * FROM Data\"\n",
    "data = pd.read_sql_query(query, conn)\n",
    "\n",
    "# Exclude the 'Year' column for statistics calculations\n",
    "data = data.drop(columns=['year'])\n",
    "\n",
    "# Calculate the Mean for each column\n",
    "means = data.mean()\n",
    "\n",
    "# Calculate the Covariance Matrix\n",
    "cov_matrix = data.cov()\n",
    "\n",
    "# Calculate the Variance for each column\n",
    "variances = data.var()\n",
    "\n",
    "# Calculate the Correlation Matrix\n",
    "corr_matrix = data.corr()\n",
    "\n",
    "# Convert the statistics to formatted tables\n",
    "mean_table = pd.DataFrame(means, columns=[\"Mean\"]).reset_index()\n",
    "cov_table = cov_matrix.reset_index()\n",
    "variance_table = pd.DataFrame(variances, columns=[\"Variance\"]).reset_index()\n",
    "corr_table = corr_matrix.reset_index()\n",
    "\n",
    "# Print the tables\n",
    "print(\"Mean Table:\")\n",
    "print(tabulate(mean_table, headers='keys', tablefmt='pretty', showindex=False))\n",
    "\n",
    "print(\"\\nCovariance Matrix:\")\n",
    "print(tabulate(cov_table, headers='keys', tablefmt='pretty', showindex=False))\n",
    "\n",
    "print(\"\\nVariance Table:\")\n",
    "print(tabulate(variance_table, headers='keys', tablefmt='pretty', showindex=False))\n",
    "\n",
    "print(\"\\nCorrelation Matrix:\")\n",
    "print(tabulate(corr_table, headers='keys', tablefmt='pretty', showindex=False))\n",
    "\n",
    "# Close the database connection\n",
    "conn.close()\n"
   ]
  },
  {
   "cell_type": "code",
   "execution_count": null,
   "id": "ce3f63f9fb31b475",
   "metadata": {},
   "outputs": [],
   "source": []
  }
 ],
 "metadata": {
  "kernelspec": {
   "display_name": "Python 3 (ipykernel)",
   "language": "python",
   "name": "python3"
  },
  "language_info": {
   "codemirror_mode": {
    "name": "ipython",
    "version": 3
   },
   "file_extension": ".py",
   "mimetype": "text/x-python",
   "name": "python",
   "nbconvert_exporter": "python",
   "pygments_lexer": "ipython3",
   "version": "3.11.5"
  }
 },
 "nbformat": 4,
 "nbformat_minor": 5
}
